{
 "cells": [
  {
   "cell_type": "markdown",
   "id": "698b5a33-9548-4024-b86f-f949da979aae",
   "metadata": {},
   "source": [
    "# Task 3"
   ]
  },
  {
   "cell_type": "code",
   "execution_count": 6,
   "id": "adbcf549-a0e7-4adf-ad18-33a3d1ab7c55",
   "metadata": {},
   "outputs": [
    {
     "name": "stdout",
     "output_type": "stream",
     "text": [
      "\n",
      "Classification Report:\n",
      "+--------------------------------------------------------+--------------------+--------------------+--------------------+---------+\n",
      "|                         Class                          |     Precision      |       Recall       |      F1-Score      | Support |\n",
      "+--------------------------------------------------------+--------------------+--------------------+--------------------+---------+\n",
      "|                         Normal                         | 0.9615384615384616 |        1.0         | 0.9803921568627451 |  100.0  |\n",
      "|                Complex_Partial_Seizures                |        1.0         |        0.97        | 0.9847715736040609 |  100.0  |\n",
      "|                Electrographic_Seizures                 |        1.0         |        0.98        |  0.98989898989899  |  100.0  |\n",
      "| Video_detected_Seizures_with_no_visual_change_over_EEG | 0.9801980198019802 |        0.99        | 0.9850746268656716 |  100.0  |\n",
      "|                       macro avg                        | 0.9854341203351105 | 0.9850000000000001 | 0.9850343368078669 |  400.0  |\n",
      "|                      weighted avg                      | 0.9854341203351106 |       0.985        | 0.985034336807867  |  400.0  |\n",
      "+--------------------------------------------------------+--------------------+--------------------+--------------------+---------+\n",
      "\n",
      "Model Evaluation Summary:\n",
      "+-------------------------+--------------------+\n",
      "|         Metric          |       Score        |\n",
      "+-------------------------+--------------------+\n",
      "|      ROC-AUC Score      | 0.9917583333333334 |\n",
      "| Balanced Accuracy Score | 0.9850000000000001 |\n",
      "+-------------------------+--------------------+\n"
     ]
    }
   ],
   "source": [
    "import pandas as pd\n",
    "from sklearn.model_selection import train_test_split\n",
    "from sklearn.svm import SVC\n",
    "from sklearn.metrics import classification_report, roc_auc_score, balanced_accuracy_score\n",
    "from sklearn.preprocessing import StandardScaler\n",
    "from sklearn.impute import SimpleImputer\n",
    "from tabulate import tabulate\n",
    "\n",
    "csv_files = {\n",
    "    'Normal': r'C:\\Users\\prags\\Desktop\\hackathon\\Normal_statistics.csv', 'Complex_Partial_Seizures':r'C:\\Users\\prags\\Desktop\\hackathon\\Complex_Partial_Seizures_statistics.csv', 'Electrographic_Seizures': r'C:\\Users\\prags\\Desktop\\hackathon\\Electrographic_Seizures_statistics.csv', 'Video_detected_Seizures_with_no_visual_change_over_EEG': r'C:\\Users\\prags\\Desktop\\hackathon\\Video_detected_Seizures_with_no_visual_change_over_EEG_statistics.csv', }\n",
    "\n",
    "all_features = []\n",
    "all_labels = []\n",
    "\n",
    "for label, file_path in csv_files.items():\n",
    "    data = pd.read_csv(file_path)\n",
    "    imputer = SimpleImputer(strategy='mean')\n",
    "    data_imputed = imputer.fit_transform(data)\n",
    "    data_imputed_df = pd.DataFrame(data_imputed, columns=data.columns)\n",
    "    all_features.append(data_imputed_df)\n",
    "    labels = [label] * len(data_imputed_df)\n",
    "    all_labels.extend(labels)\n",
    "\n",
    "X = pd.concat(all_features, ignore_index=True)\n",
    "y = pd.Series(all_labels)\n",
    "\n",
    "label_mapping = {label: idx for idx, label in enumerate(y.unique())}\n",
    "y_encoded = y.map(label_mapping)\n",
    "\n",
    "imputer = SimpleImputer(strategy='mean')\n",
    "X_imputed = imputer.fit_transform(X)\n",
    "\n",
    "scaler = StandardScaler()\n",
    "X_scaled = scaler.fit_transform(X_imputed)\n",
    "\n",
    "X_train, X_val, y_train, y_val = train_test_split(X_scaled, y_encoded, test_size=0.2, random_state=42, stratify=y_encoded)\n",
    "\n",
    "svm_model = SVC(kernel='linear', random_state=42, probability=True)\n",
    "svm_model.fit(X_train, y_train)\n",
    "\n",
    "y_pred = svm_model.predict(X_val)\n",
    "y_pred_prob = svm_model.predict_proba(X_val)\n",
    "\n",
    "class_report = classification_report(y_val, y_pred, target_names=label_mapping.keys(), output_dict=True)\n",
    "\n",
    "roc_auc = roc_auc_score(y_val, y_pred_prob, multi_class='ovr', average='macro')\n",
    "\n",
    "balanced_accuracy = balanced_accuracy_score(y_val, y_pred)\n",
    "\n",
    "class_report_tab = []\n",
    "for label, metrics in class_report.items():\n",
    "    if label == 'accuracy':\n",
    "        continue\n",
    "    class_report_tab.append([label] + [metrics['precision'], metrics['recall'], metrics['f1-score'], metrics['support']])\n",
    "\n",
    "summary_tab = [\n",
    "    ['ROC-AUC Score', roc_auc],\n",
    "    ['Balanced Accuracy Score', balanced_accuracy]\n",
    "]\n",
    "\n",
    "print(\"\\nClassification Report:\")\n",
    "print(tabulate(class_report_tab, headers=[\"Class\", \"Precision\", \"Recall\", \"F1-Score\", \"Support\"], tablefmt=\"pretty\"))\n",
    "\n",
    "print(\"\\nModel Evaluation Summary:\")\n",
    "print(tabulate(summary_tab, headers=[\"Metric\", \"Score\"], tablefmt=\"pretty\"))\n"
   ]
  }
 ],
 "metadata": {
  "kernelspec": {
   "display_name": "Python [conda env:base] *",
   "language": "python",
   "name": "conda-base-py"
  },
  "language_info": {
   "codemirror_mode": {
    "name": "ipython",
    "version": 3
   },
   "file_extension": ".py",
   "mimetype": "text/x-python",
   "name": "python",
   "nbconvert_exporter": "python",
   "pygments_lexer": "ipython3",
   "version": "3.12.7"
  }
 },
 "nbformat": 4,
 "nbformat_minor": 5
}
